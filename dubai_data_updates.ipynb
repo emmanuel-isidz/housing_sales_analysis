{
 "cells": [
  {
   "cell_type": "code",
   "execution_count": 1,
   "id": "b9e3273a",
   "metadata": {},
   "outputs": [
    {
     "data": {
      "text/html": [
       "<div>\n",
       "<style scoped>\n",
       "    .dataframe tbody tr th:only-of-type {\n",
       "        vertical-align: middle;\n",
       "    }\n",
       "\n",
       "    .dataframe tbody tr th {\n",
       "        vertical-align: top;\n",
       "    }\n",
       "\n",
       "    .dataframe thead th {\n",
       "        text-align: right;\n",
       "    }\n",
       "</style>\n",
       "<table border=\"1\" class=\"dataframe\">\n",
       "  <thead>\n",
       "    <tr style=\"text-align: right;\">\n",
       "      <th></th>\n",
       "      <th>Address</th>\n",
       "      <th>Rent</th>\n",
       "      <th>Beds</th>\n",
       "      <th>Baths</th>\n",
       "      <th>Type</th>\n",
       "      <th>Area_in_sqft</th>\n",
       "      <th>Rent_per_sqft</th>\n",
       "      <th>Rent_category</th>\n",
       "      <th>Frequency</th>\n",
       "      <th>Furnishing</th>\n",
       "      <th>Purpose</th>\n",
       "      <th>Posted_date</th>\n",
       "      <th>Age_of_listing_in_days</th>\n",
       "      <th>Location</th>\n",
       "      <th>City</th>\n",
       "      <th>Latitude</th>\n",
       "      <th>Longitude</th>\n",
       "    </tr>\n",
       "  </thead>\n",
       "  <tbody>\n",
       "    <tr>\n",
       "      <th>0</th>\n",
       "      <td>The Gate Tower 2, The Gate Tower, Shams Gate D...</td>\n",
       "      <td>124000</td>\n",
       "      <td>3</td>\n",
       "      <td>4</td>\n",
       "      <td>Apartment</td>\n",
       "      <td>1785</td>\n",
       "      <td>69.467787</td>\n",
       "      <td>Medium</td>\n",
       "      <td>Yearly</td>\n",
       "      <td>Unfurnished</td>\n",
       "      <td>For Rent</td>\n",
       "      <td>07/03/2024</td>\n",
       "      <td>45</td>\n",
       "      <td>Al Reem Island</td>\n",
       "      <td>Abu Dhabi</td>\n",
       "      <td>24.493598</td>\n",
       "      <td>54.407841</td>\n",
       "    </tr>\n",
       "    <tr>\n",
       "      <th>1</th>\n",
       "      <td>Water's Edge, Yas Island, Abu Dhabi</td>\n",
       "      <td>140000</td>\n",
       "      <td>3</td>\n",
       "      <td>4</td>\n",
       "      <td>Apartment</td>\n",
       "      <td>1422</td>\n",
       "      <td>98.452883</td>\n",
       "      <td>Medium</td>\n",
       "      <td>Yearly</td>\n",
       "      <td>Unfurnished</td>\n",
       "      <td>For Rent</td>\n",
       "      <td>08/03/2024</td>\n",
       "      <td>44</td>\n",
       "      <td>Yas Island</td>\n",
       "      <td>Abu Dhabi</td>\n",
       "      <td>24.494022</td>\n",
       "      <td>54.607372</td>\n",
       "    </tr>\n",
       "    <tr>\n",
       "      <th>2</th>\n",
       "      <td>Al Raha Lofts, Al Raha Beach, Abu Dhabi</td>\n",
       "      <td>99000</td>\n",
       "      <td>2</td>\n",
       "      <td>3</td>\n",
       "      <td>Apartment</td>\n",
       "      <td>1314</td>\n",
       "      <td>75.342466</td>\n",
       "      <td>Medium</td>\n",
       "      <td>Yearly</td>\n",
       "      <td>Furnished</td>\n",
       "      <td>For Rent</td>\n",
       "      <td>21/03/2024</td>\n",
       "      <td>31</td>\n",
       "      <td>Al Raha Beach</td>\n",
       "      <td>Abu Dhabi</td>\n",
       "      <td>24.485931</td>\n",
       "      <td>54.600939</td>\n",
       "    </tr>\n",
       "    <tr>\n",
       "      <th>3</th>\n",
       "      <td>Marina Heights, Marina Square, Al Reem Island,...</td>\n",
       "      <td>220000</td>\n",
       "      <td>3</td>\n",
       "      <td>4</td>\n",
       "      <td>Penthouse</td>\n",
       "      <td>3843</td>\n",
       "      <td>57.246942</td>\n",
       "      <td>High</td>\n",
       "      <td>Yearly</td>\n",
       "      <td>Unfurnished</td>\n",
       "      <td>For Rent</td>\n",
       "      <td>24/02/2024</td>\n",
       "      <td>57</td>\n",
       "      <td>Al Reem Island</td>\n",
       "      <td>Abu Dhabi</td>\n",
       "      <td>24.493598</td>\n",
       "      <td>54.407841</td>\n",
       "    </tr>\n",
       "    <tr>\n",
       "      <th>4</th>\n",
       "      <td>West Yas, Yas Island, Abu Dhabi</td>\n",
       "      <td>350000</td>\n",
       "      <td>5</td>\n",
       "      <td>7</td>\n",
       "      <td>Villa</td>\n",
       "      <td>6860</td>\n",
       "      <td>51.020408</td>\n",
       "      <td>High</td>\n",
       "      <td>Yearly</td>\n",
       "      <td>Unfurnished</td>\n",
       "      <td>For Rent</td>\n",
       "      <td>16/02/2024</td>\n",
       "      <td>65</td>\n",
       "      <td>Yas Island</td>\n",
       "      <td>Abu Dhabi</td>\n",
       "      <td>24.494022</td>\n",
       "      <td>54.607372</td>\n",
       "    </tr>\n",
       "    <tr>\n",
       "      <th>...</th>\n",
       "      <td>...</td>\n",
       "      <td>...</td>\n",
       "      <td>...</td>\n",
       "      <td>...</td>\n",
       "      <td>...</td>\n",
       "      <td>...</td>\n",
       "      <td>...</td>\n",
       "      <td>...</td>\n",
       "      <td>...</td>\n",
       "      <td>...</td>\n",
       "      <td>...</td>\n",
       "      <td>...</td>\n",
       "      <td>...</td>\n",
       "      <td>...</td>\n",
       "      <td>...</td>\n",
       "      <td>...</td>\n",
       "      <td>...</td>\n",
       "    </tr>\n",
       "    <tr>\n",
       "      <th>73737</th>\n",
       "      <td>Al Huboob 1, Al Salamah, Umm Al Quwain</td>\n",
       "      <td>14000</td>\n",
       "      <td>0</td>\n",
       "      <td>1</td>\n",
       "      <td>Apartment</td>\n",
       "      <td>419</td>\n",
       "      <td>33.412888</td>\n",
       "      <td>Low</td>\n",
       "      <td>Yearly</td>\n",
       "      <td>Unfurnished</td>\n",
       "      <td>For Rent</td>\n",
       "      <td>14/12/2023</td>\n",
       "      <td>129</td>\n",
       "      <td>Al Salamah</td>\n",
       "      <td>Umm Al Quwain</td>\n",
       "      <td>25.493412</td>\n",
       "      <td>55.575994</td>\n",
       "    </tr>\n",
       "    <tr>\n",
       "      <th>73738</th>\n",
       "      <td>Umm Al Quwain Marina, Umm Al Quwain</td>\n",
       "      <td>14000</td>\n",
       "      <td>0</td>\n",
       "      <td>1</td>\n",
       "      <td>Apartment</td>\n",
       "      <td>500</td>\n",
       "      <td>28.000000</td>\n",
       "      <td>Low</td>\n",
       "      <td>Yearly</td>\n",
       "      <td>Unfurnished</td>\n",
       "      <td>For Rent</td>\n",
       "      <td>14/12/2023</td>\n",
       "      <td>129</td>\n",
       "      <td>Umm Al Quwain Marina</td>\n",
       "      <td>Umm Al Quwain</td>\n",
       "      <td>25.527959</td>\n",
       "      <td>55.606527</td>\n",
       "    </tr>\n",
       "    <tr>\n",
       "      <th>73739</th>\n",
       "      <td>King Faisal Street, Umm Al Quwain</td>\n",
       "      <td>50000</td>\n",
       "      <td>3</td>\n",
       "      <td>4</td>\n",
       "      <td>Apartment</td>\n",
       "      <td>2000</td>\n",
       "      <td>25.000000</td>\n",
       "      <td>Low</td>\n",
       "      <td>Yearly</td>\n",
       "      <td>Unfurnished</td>\n",
       "      <td>For Rent</td>\n",
       "      <td>02/01/2024</td>\n",
       "      <td>110</td>\n",
       "      <td>King Faisal Street</td>\n",
       "      <td>Umm Al Quwain</td>\n",
       "      <td>NaN</td>\n",
       "      <td>NaN</td>\n",
       "    </tr>\n",
       "    <tr>\n",
       "      <th>73740</th>\n",
       "      <td>Al Maqtaa, Umm Al Quwain</td>\n",
       "      <td>37000</td>\n",
       "      <td>1</td>\n",
       "      <td>2</td>\n",
       "      <td>Apartment</td>\n",
       "      <td>989</td>\n",
       "      <td>37.411527</td>\n",
       "      <td>Low</td>\n",
       "      <td>Yearly</td>\n",
       "      <td>Unfurnished</td>\n",
       "      <td>For Rent</td>\n",
       "      <td>23/10/2023</td>\n",
       "      <td>181</td>\n",
       "      <td>Al Maqtaa</td>\n",
       "      <td>Umm Al Quwain</td>\n",
       "      <td>NaN</td>\n",
       "      <td>NaN</td>\n",
       "    </tr>\n",
       "    <tr>\n",
       "      <th>73741</th>\n",
       "      <td>Al Rass, Umm Al Quwain</td>\n",
       "      <td>11000</td>\n",
       "      <td>0</td>\n",
       "      <td>1</td>\n",
       "      <td>Apartment</td>\n",
       "      <td>300</td>\n",
       "      <td>36.666667</td>\n",
       "      <td>Low</td>\n",
       "      <td>Yearly</td>\n",
       "      <td>Unfurnished</td>\n",
       "      <td>For Rent</td>\n",
       "      <td>12/02/2024</td>\n",
       "      <td>69</td>\n",
       "      <td>Al Rass</td>\n",
       "      <td>Umm Al Quwain</td>\n",
       "      <td>NaN</td>\n",
       "      <td>NaN</td>\n",
       "    </tr>\n",
       "  </tbody>\n",
       "</table>\n",
       "<p>73742 rows × 17 columns</p>\n",
       "</div>"
      ],
      "text/plain": [
       "                                                 Address    Rent  Beds  Baths  \\\n",
       "0      The Gate Tower 2, The Gate Tower, Shams Gate D...  124000     3      4   \n",
       "1                    Water's Edge, Yas Island, Abu Dhabi  140000     3      4   \n",
       "2                Al Raha Lofts, Al Raha Beach, Abu Dhabi   99000     2      3   \n",
       "3      Marina Heights, Marina Square, Al Reem Island,...  220000     3      4   \n",
       "4                        West Yas, Yas Island, Abu Dhabi  350000     5      7   \n",
       "...                                                  ...     ...   ...    ...   \n",
       "73737             Al Huboob 1, Al Salamah, Umm Al Quwain   14000     0      1   \n",
       "73738                Umm Al Quwain Marina, Umm Al Quwain   14000     0      1   \n",
       "73739                  King Faisal Street, Umm Al Quwain   50000     3      4   \n",
       "73740                           Al Maqtaa, Umm Al Quwain   37000     1      2   \n",
       "73741                             Al Rass, Umm Al Quwain   11000     0      1   \n",
       "\n",
       "            Type  Area_in_sqft  Rent_per_sqft Rent_category Frequency  \\\n",
       "0      Apartment          1785      69.467787        Medium    Yearly   \n",
       "1      Apartment          1422      98.452883        Medium    Yearly   \n",
       "2      Apartment          1314      75.342466        Medium    Yearly   \n",
       "3      Penthouse          3843      57.246942          High    Yearly   \n",
       "4          Villa          6860      51.020408          High    Yearly   \n",
       "...          ...           ...            ...           ...       ...   \n",
       "73737  Apartment           419      33.412888           Low    Yearly   \n",
       "73738  Apartment           500      28.000000           Low    Yearly   \n",
       "73739  Apartment          2000      25.000000           Low    Yearly   \n",
       "73740  Apartment           989      37.411527           Low    Yearly   \n",
       "73741  Apartment           300      36.666667           Low    Yearly   \n",
       "\n",
       "        Furnishing   Purpose Posted_date  Age_of_listing_in_days  \\\n",
       "0      Unfurnished  For Rent  07/03/2024                      45   \n",
       "1      Unfurnished  For Rent  08/03/2024                      44   \n",
       "2        Furnished  For Rent  21/03/2024                      31   \n",
       "3      Unfurnished  For Rent  24/02/2024                      57   \n",
       "4      Unfurnished  For Rent  16/02/2024                      65   \n",
       "...            ...       ...         ...                     ...   \n",
       "73737  Unfurnished  For Rent  14/12/2023                     129   \n",
       "73738  Unfurnished  For Rent  14/12/2023                     129   \n",
       "73739  Unfurnished  For Rent  02/01/2024                     110   \n",
       "73740  Unfurnished  For Rent  23/10/2023                     181   \n",
       "73741  Unfurnished  For Rent  12/02/2024                      69   \n",
       "\n",
       "                   Location           City   Latitude  Longitude  \n",
       "0            Al Reem Island      Abu Dhabi  24.493598  54.407841  \n",
       "1                Yas Island      Abu Dhabi  24.494022  54.607372  \n",
       "2             Al Raha Beach      Abu Dhabi  24.485931  54.600939  \n",
       "3            Al Reem Island      Abu Dhabi  24.493598  54.407841  \n",
       "4                Yas Island      Abu Dhabi  24.494022  54.607372  \n",
       "...                     ...            ...        ...        ...  \n",
       "73737            Al Salamah  Umm Al Quwain  25.493412  55.575994  \n",
       "73738  Umm Al Quwain Marina  Umm Al Quwain  25.527959  55.606527  \n",
       "73739    King Faisal Street  Umm Al Quwain        NaN        NaN  \n",
       "73740             Al Maqtaa  Umm Al Quwain        NaN        NaN  \n",
       "73741               Al Rass  Umm Al Quwain        NaN        NaN  \n",
       "\n",
       "[73742 rows x 17 columns]"
      ]
     },
     "execution_count": 1,
     "metadata": {},
     "output_type": "execute_result"
    }
   ],
   "source": [
    "import pandas as pd\n",
    "import numpy as np\n",
    "import matplotlib.pyplot as plt\n",
    "import seaborn as sns\n",
    "\n",
    "dubai=pd.read_csv(\"dubai_properties.csv\")\n",
    "dubai"
   ]
  },
  {
   "cell_type": "code",
   "execution_count": 2,
   "id": "bb38572c",
   "metadata": {},
   "outputs": [
    {
     "data": {
      "text/plain": [
       "Address                    4515\n",
       "Rent                       2099\n",
       "Beds                         13\n",
       "Baths                        11\n",
       "Type                          9\n",
       "Area_in_sqft               4964\n",
       "Rent_per_sqft             31328\n",
       "Rent_category                 3\n",
       "Frequency                     1\n",
       "Furnishing                    2\n",
       "Purpose                       1\n",
       "Posted_date                 544\n",
       "Age_of_listing_in_days      544\n",
       "Location                    441\n",
       "City                          8\n",
       "Latitude                    412\n",
       "Longitude                   412\n",
       "dtype: int64"
      ]
     },
     "execution_count": 2,
     "metadata": {},
     "output_type": "execute_result"
    }
   ],
   "source": [
    "dubai.nunique()"
   ]
  },
  {
   "cell_type": "markdown",
   "id": "ac1f9f9f",
   "metadata": {},
   "source": [
    "# exploratory analysis"
   ]
  },
  {
   "cell_type": "code",
   "execution_count": 3,
   "id": "b9c1b7aa",
   "metadata": {},
   "outputs": [
    {
     "data": {
      "text/plain": [
       "(73742, 17)"
      ]
     },
     "execution_count": 3,
     "metadata": {},
     "output_type": "execute_result"
    }
   ],
   "source": [
    "dubai.shape"
   ]
  },
  {
   "cell_type": "code",
   "execution_count": 4,
   "id": "023e0d5b",
   "metadata": {},
   "outputs": [
    {
     "data": {
      "text/plain": [
       "Address                    object\n",
       "Rent                        int64\n",
       "Beds                        int64\n",
       "Baths                       int64\n",
       "Type                       object\n",
       "Area_in_sqft                int64\n",
       "Rent_per_sqft             float64\n",
       "Rent_category              object\n",
       "Frequency                  object\n",
       "Furnishing                 object\n",
       "Purpose                    object\n",
       "Posted_date                object\n",
       "Age_of_listing_in_days      int64\n",
       "Location                   object\n",
       "City                       object\n",
       "Latitude                  float64\n",
       "Longitude                 float64\n",
       "dtype: object"
      ]
     },
     "execution_count": 4,
     "metadata": {},
     "output_type": "execute_result"
    }
   ],
   "source": [
    "# lets extract the data type of each column\n",
    "dubai.dtypes"
   ]
  },
  {
   "cell_type": "code",
   "execution_count": 5,
   "id": "0327cbd6",
   "metadata": {},
   "outputs": [
    {
     "data": {
      "text/plain": [
       "Address                     0\n",
       "Rent                        0\n",
       "Beds                        0\n",
       "Baths                       0\n",
       "Type                        0\n",
       "Area_in_sqft                0\n",
       "Rent_per_sqft               0\n",
       "Rent_category               0\n",
       "Frequency                   0\n",
       "Furnishing                  0\n",
       "Purpose                     0\n",
       "Posted_date                 0\n",
       "Age_of_listing_in_days      0\n",
       "Location                    0\n",
       "City                        0\n",
       "Latitude                  719\n",
       "Longitude                 719\n",
       "dtype: int64"
      ]
     },
     "execution_count": 5,
     "metadata": {},
     "output_type": "execute_result"
    }
   ],
   "source": [
    "# lets extract the total number of null values\n",
    "\n",
    "dubai.isna().sum()"
   ]
  },
  {
   "cell_type": "code",
   "execution_count": 6,
   "id": "662149f6",
   "metadata": {},
   "outputs": [],
   "source": [
    "# replace null values with 0\n",
    "\n",
    "dubai[[\"Latitude\",\"Longitude\"]]=dubai[[\"Latitude\",\"Longitude\"]].fillna(0)"
   ]
  },
  {
   "cell_type": "code",
   "execution_count": 7,
   "id": "03e3231c",
   "metadata": {},
   "outputs": [
    {
     "data": {
      "text/plain": [
       "Address                   0\n",
       "Rent                      0\n",
       "Beds                      0\n",
       "Baths                     0\n",
       "Type                      0\n",
       "Area_in_sqft              0\n",
       "Rent_per_sqft             0\n",
       "Rent_category             0\n",
       "Frequency                 0\n",
       "Furnishing                0\n",
       "Purpose                   0\n",
       "Posted_date               0\n",
       "Age_of_listing_in_days    0\n",
       "Location                  0\n",
       "City                      0\n",
       "Latitude                  0\n",
       "Longitude                 0\n",
       "dtype: int64"
      ]
     },
     "execution_count": 7,
     "metadata": {},
     "output_type": "execute_result"
    }
   ],
   "source": [
    "dubai.isna().sum()"
   ]
  },
  {
   "cell_type": "code",
   "execution_count": 8,
   "id": "32175a57",
   "metadata": {},
   "outputs": [],
   "source": [
    "# removing irrelevant columns\n",
    "dubai.drop([\"Longitude\",\"Latitude\",\"Rent_per_sqft\",\"Area_in_sqft\",\"Posted_date\",\"Purpose\"],axis=1,inplace=True)"
   ]
  },
  {
   "cell_type": "code",
   "execution_count": 9,
   "id": "0add6fbc",
   "metadata": {},
   "outputs": [
    {
     "data": {
      "text/plain": [
       "Index(['Address', 'Rent', 'Beds', 'Baths', 'Type', 'Rent_category',\n",
       "       'Frequency', 'Furnishing', 'Age_of_listing_in_days', 'Location',\n",
       "       'City'],\n",
       "      dtype='object')"
      ]
     },
     "execution_count": 9,
     "metadata": {},
     "output_type": "execute_result"
    }
   ],
   "source": [
    "dubai.columns"
   ]
  },
  {
   "cell_type": "code",
   "execution_count": 10,
   "id": "f49067e6",
   "metadata": {},
   "outputs": [
    {
     "data": {
      "text/plain": [
       "Address                   4515\n",
       "Rent                      2099\n",
       "Beds                        13\n",
       "Baths                       11\n",
       "Type                         9\n",
       "Rent_category                3\n",
       "Frequency                    1\n",
       "Furnishing                   2\n",
       "Age_of_listing_in_days     544\n",
       "Location                   441\n",
       "City                         8\n",
       "dtype: int64"
      ]
     },
     "execution_count": 10,
     "metadata": {},
     "output_type": "execute_result"
    }
   ],
   "source": [
    "dubai.nunique()"
   ]
  },
  {
   "cell_type": "markdown",
   "id": "f3842ea6",
   "metadata": {},
   "source": [
    "# Housing analysis breakdowns"
   ]
  },
  {
   "cell_type": "code",
   "execution_count": 25,
   "id": "2d16b419",
   "metadata": {},
   "outputs": [
    {
     "data": {
      "text/plain": [
       "Type\n",
       "Apartment               1.096384e+05\n",
       "Hotel Apartment         2.257042e+05\n",
       "Penthouse               4.811372e+05\n",
       "Residential Building    2.866282e+06\n",
       "Residential Floor       1.409327e+06\n",
       "Residential Plot        2.996498e+05\n",
       "Townhouse               1.914537e+05\n",
       "Villa                   2.838021e+05\n",
       "Villa Compound          1.786589e+05\n",
       "Name: Rent, dtype: float64"
      ]
     },
     "execution_count": 25,
     "metadata": {},
     "output_type": "execute_result"
    }
   ],
   "source": [
    "# average rent of properties by the property type\n",
    "\n",
    "average_rent_by_type = dubai.groupby('Type')['Rent'].mean()\n",
    "average_rent_by_type"
   ]
  },
  {
   "cell_type": "code",
   "execution_count": 12,
   "id": "3e13ef78",
   "metadata": {},
   "outputs": [
    {
     "data": {
      "text/plain": [
       "dtype('float64')"
      ]
     },
     "execution_count": 12,
     "metadata": {},
     "output_type": "execute_result"
    }
   ],
   "source": [
    "# identifying the datatype of the above calculated field\n",
    "\n",
    "average_rent_by_type.dtypes"
   ]
  },
  {
   "cell_type": "code",
   "execution_count": 13,
   "id": "3aa16d03",
   "metadata": {},
   "outputs": [],
   "source": [
    "# changing the data type from float to integer\n",
    "\n",
    "average_rent_by_type=average_rent_by_type.astype(\"int\")"
   ]
  },
  {
   "cell_type": "code",
   "execution_count": 14,
   "id": "8f37a426",
   "metadata": {},
   "outputs": [
    {
     "data": {
      "text/plain": [
       "Type\n",
       "Apartment                109638\n",
       "Villa Compound           178658\n",
       "Townhouse                191453\n",
       "Hotel Apartment          225704\n",
       "Villa                    283802\n",
       "Residential Plot         299649\n",
       "Penthouse                481137\n",
       "Residential Floor       1409327\n",
       "Residential Building    2866281\n",
       "Name: Rent, dtype: int32"
      ]
     },
     "execution_count": 14,
     "metadata": {},
     "output_type": "execute_result"
    }
   ],
   "source": [
    "# sorting the average rents in ascending order to get the property type with the highest average rent\n",
    "\n",
    "average_rent_by_type.sort_values(ascending=True,inplace=True)\n",
    "average_rent_by_type"
   ]
  },
  {
   "cell_type": "code",
   "execution_count": 15,
   "id": "2c803b29",
   "metadata": {},
   "outputs": [
    {
     "data": {
      "text/plain": [
       "<Axes: title={'center': 'Average rents by property type'}, xlabel='Type'>"
      ]
     },
     "execution_count": 15,
     "metadata": {},
     "output_type": "execute_result"
    },
    {
     "data": {
      "image/png": "[encoded data removed]",
      "text/plain": [
       "<Figure size 640x480 with 1 Axes>"
      ]
     },
     "metadata": {},
     "output_type": "display_data"
    }
   ],
   "source": [
    "# a chart to show the average rent distribution\n",
    "dubai.groupby('Type')['Rent'].mean().plot(kind='bar',title='Average rents by property type',x='Type',color=\"navy\")"
   ]
  },
  {
   "cell_type": "code",
   "execution_count": 16,
   "id": "deec1e84",
   "metadata": {},
   "outputs": [
    {
     "data": {
      "text/plain": [
       "Type\n",
       "Apartment               6198297348\n",
       "Hotel Apartment          104952455\n",
       "Penthouse                129907047\n",
       "Residential Building     126116399\n",
       "Residential Floor         16911925\n",
       "Residential Plot           1797899\n",
       "Townhouse                654963113\n",
       "Villa                   3656222787\n",
       "Villa Compound            19116500\n",
       "Name: Rent, dtype: int64"
      ]
     },
     "execution_count": 16,
     "metadata": {},
     "output_type": "execute_result"
    }
   ],
   "source": [
    "# total rent received of properties by the property type\n",
    "\n",
    "total_rent_by_type=dubai.groupby('Type')['Rent'].sum()\n",
    "total_rent_by_type"
   ]
  },
  {
   "cell_type": "code",
   "execution_count": 17,
   "id": "dcd0462e",
   "metadata": {},
   "outputs": [
    {
     "data": {
      "text/plain": [
       "(array([0, 1, 2, 3, 4, 5, 6, 7, 8]),\n",
       " [Text(0, 0, 'Apartment'),\n",
       "  Text(1, 0, 'Hotel Apartment'),\n",
       "  Text(2, 0, 'Penthouse'),\n",
       "  Text(3, 0, 'Residential Building'),\n",
       "  Text(4, 0, 'Residential Floor'),\n",
       "  Text(5, 0, 'Residential Plot'),\n",
       "  Text(6, 0, 'Townhouse'),\n",
       "  Text(7, 0, 'Villa'),\n",
       "  Text(8, 0, 'Villa Compound')])"
      ]
     },
     "execution_count": 17,
     "metadata": {},
     "output_type": "execute_result"
    },
    {
     "data": {
      "image/png": "[encoded data removed]",
      "text/plain": [
       "<Figure size 640x480 with 1 Axes>"
      ]
     },
     "metadata": {},
     "output_type": "display_data"
    }
   ],
   "source": [
    "# a chart to show rent received distributed over the propety types\n",
    "\n",
    "total_rent_by_type=dubai.groupby('Type')['Rent'].sum()\n",
    "\n",
    "total_rent_by_type.plot(kind=\"bar\")\n",
    "plt.title('rent distibution')\n",
    "plt.xlabel('Type')\n",
    "plt.ylabel('total_rent_by_type')\n",
    "plt.xticks(rotation=90)\n",
    "# dubai.groupby('Type')['Rent'].sum().plot(kind='bar',title='total rents by property type',x='Type',color=\"purple\")"
   ]
  },
  {
   "cell_type": "code",
   "execution_count": 18,
   "id": "8e1a2a37",
   "metadata": {},
   "outputs": [
    {
     "data": {
      "text/plain": [
       "Type\n",
       "Apartment                74.205947\n",
       "Hotel Apartment          77.249462\n",
       "Penthouse                80.055556\n",
       "Residential Building     76.909091\n",
       "Residential Floor       102.000000\n",
       "Residential Plot         50.666667\n",
       "Townhouse                66.850628\n",
       "Villa                    76.088333\n",
       "Villa Compound           90.149533\n",
       "Name: Age_of_listing_in_days, dtype: float64"
      ]
     },
     "execution_count": 18,
     "metadata": {},
     "output_type": "execute_result"
    }
   ],
   "source": [
    "# average listing days each property type had\n",
    "average_listing_in_days = dubai.groupby('Type')['Age_of_listing_in_days'].mean()\n",
    "average_listing_in_days"
   ]
  },
  {
   "cell_type": "code",
   "execution_count": 19,
   "id": "7ff75570",
   "metadata": {},
   "outputs": [
    {
     "data": {
      "text/plain": [
       "(array([0, 1, 2, 3, 4, 5, 6, 7, 8]),\n",
       " [Text(0, 0, 'Apartment'),\n",
       "  Text(1, 0, 'Hotel Apartment'),\n",
       "  Text(2, 0, 'Penthouse'),\n",
       "  Text(3, 0, 'Residential Building'),\n",
       "  Text(4, 0, 'Residential Floor'),\n",
       "  Text(5, 0, 'Residential Plot'),\n",
       "  Text(6, 0, 'Townhouse'),\n",
       "  Text(7, 0, 'Villa'),\n",
       "  Text(8, 0, 'Villa Compound')])"
      ]
     },
     "execution_count": 19,
     "metadata": {},
     "output_type": "execute_result"
    },
    {
     "data": {
      "image/png": "[encoded data removed]",
      "text/plain": [
       "<Figure size 640x480 with 1 Axes>"
      ]
     },
     "metadata": {},
     "output_type": "display_data"
    }
   ],
   "source": [
    "# chart to show average listing days per property type\n",
    "\n",
    "average_listing_in_days = dubai.groupby('Type')['Age_of_listing_in_days'].mean()\n",
    "\n",
    "average_listing_in_days.plot(kind=\"bar\",color=\"navy\")\n",
    "plt.title('average listing days')\n",
    "plt.xlabel('Type')\n",
    "plt.ylabel('average_listing_in_days')\n",
    "plt.xticks(rotation=90)"
   ]
  },
  {
   "cell_type": "code",
   "execution_count": 20,
   "id": "28c60548",
   "metadata": {},
   "outputs": [],
   "source": [
    "# total rent received by locations\n",
    "\n",
    "total_rent_by_location=dubai.groupby('Location')['Rent'].sum()\n"
   ]
  },
  {
   "cell_type": "code",
   "execution_count": 21,
   "id": "6e543a4e",
   "metadata": {},
   "outputs": [
    {
     "data": {
      "text/plain": [
       "Location\n",
       "Al Raudah                   12000\n",
       "Al Hawiyah                  15000\n",
       "Al Humaid City              16000\n",
       "Al Bataeh                   16000\n",
       "Emirates Lake Towers        22000\n",
       "                          ...    \n",
       "Dubai Creek Harbour     330578296\n",
       "Al Reem Island          365988021\n",
       "Dubai Marina            520817556\n",
       "Downtown Dubai          793289046\n",
       "Palm Jumeirah           881671517\n",
       "Name: Rent, Length: 441, dtype: int64"
      ]
     },
     "execution_count": 21,
     "metadata": {},
     "output_type": "execute_result"
    }
   ],
   "source": [
    "# sorting in ascending order to get the location with highest and lowest rents\n",
    "total_rent_by_location.sort_values(ascending=True)"
   ]
  },
  {
   "cell_type": "code",
   "execution_count": 22,
   "id": "85f9189a",
   "metadata": {},
   "outputs": [
    {
     "data": {
      "text/plain": [
       "Location\n",
       "Palm Jumeirah          881671517\n",
       "Downtown Dubai         793289046\n",
       "Dubai Marina           520817556\n",
       "Al Reem Island         365988021\n",
       "Dubai Creek Harbour    330578296\n",
       "Name: Rent, dtype: int64"
      ]
     },
     "execution_count": 22,
     "metadata": {},
     "output_type": "execute_result"
    }
   ],
   "source": [
    "# getting the top 5 locations by the rents received\n",
    "top_locations = dubai.groupby('Location')['Rent'].sum().nlargest(5)\n",
    "top_locations"
   ]
  },
  {
   "cell_type": "code",
   "execution_count": 23,
   "id": "03a1a213",
   "metadata": {},
   "outputs": [],
   "source": [
    "# total rents received by city\n",
    "total_rent_by_city=dubai.groupby('City')['Rent'].sum(numeric_only=True)"
   ]
  },
  {
   "cell_type": "code",
   "execution_count": 24,
   "id": "ee6dd419",
   "metadata": {},
   "outputs": [
    {
     "data": {
      "text/plain": [
       "City\n",
       "Fujairah             1986999\n",
       "Umm Al Quwain        2940000\n",
       "Ras Al Khaimah      63272050\n",
       "Al Ain              67225998\n",
       "Ajman              321035088\n",
       "Sharjah            455656998\n",
       "Abu Dhabi         2688370461\n",
       "Dubai             7307797879\n",
       "Name: Rent, dtype: int64"
      ]
     },
     "execution_count": 24,
     "metadata": {},
     "output_type": "execute_result"
    }
   ],
   "source": [
    "# tsorting to know the city with highest and lowest\n",
    "total_rent_by_city.sort_values(ascending=True,inplace=True)\n",
    "total_rent_by_city"
   ]
  }
 ],
 "metadata": {
  "kernelspec": {
   "display_name": "Python 3 (ipykernel)",
   "language": "python",
   "name": "python3"
  },
  "language_info": {
   "codemirror_mode": {
    "name": "ipython",
    "version": 3
   },
   "file_extension": ".py",
   "mimetype": "text/x-python",
   "name": "python",
   "nbconvert_exporter": "python",
   "pygments_lexer": "ipython3",
   "version": "3.11.5"
  }
 },
 "nbformat": 4,
 "nbformat_minor": 5
}
